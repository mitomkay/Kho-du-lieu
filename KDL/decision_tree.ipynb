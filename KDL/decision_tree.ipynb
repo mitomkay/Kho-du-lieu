{
 "cells": [
  {
   "cell_type": "code",
   "execution_count": 5,
   "metadata": {},
   "outputs": [],
   "source": [
    "import pandas as pd\n",
    "from sklearn.model_selection import train_test_split\n",
    "import numpy as np"
   ]
  },
  {
   "cell_type": "code",
   "execution_count": 6,
   "metadata": {},
   "outputs": [
    {
     "name": "stdout",
     "output_type": "stream",
     "text": [
      "Số lượng bản ghi, thuộc tính:  (5000, 23)\n",
      "Danh sách tên thuộc tính:  ['time', 'trt', 'age', 'wtkg', 'hemo', 'homo', 'drugs', 'karnof', 'oprior', 'z30', 'preanti', 'race', 'gender', 'str2', 'strat', 'symptom', 'treat', 'offtrt', 'cd40', 'cd420', 'cd80', 'cd820', 'infected']\n",
      "   time  trt  age      wtkg  hemo  homo  drugs  karnof  oprior  z30  ...  \\\n",
      "0   988    2   42  71.76131     0     0      0     100       0    1  ...   \n",
      "1   413    3   30  72.67629     0     1      0     100       0    1  ...   \n",
      "2  1119    0   37  73.75514     0     1      0      90       0    1  ...   \n",
      "3   680    3   34  70.03769     0     0      0     100       0    0  ...   \n",
      "4  1043    3   35  63.02845     0     0      0     100       0    1  ...   \n",
      "\n",
      "   str2  strat  symptom  treat  offtrt  cd40  cd420  cd80  cd820  infected  \n",
      "0     1      3        0      0       0   290    408  1870   1671         0  \n",
      "1     0      1        0      0       0   506    446  1372    523         0  \n",
      "2     1      3        0      0       0   499    542   609   1474         0  \n",
      "3     0      1        0      1       0   313    478   780    987         0  \n",
      "4     0      1        0      1       0   337    761   698   1735         0  \n",
      "\n",
      "[5 rows x 23 columns]\n"
     ]
    }
   ],
   "source": [
    "df = pd.read_csv('./data/data2.csv')\n",
    "\n",
    "print(\"Số lượng bản ghi, thuộc tính: \", df.shape)\n",
    "print(\"Danh sách tên thuộc tính: \", df.columns.tolist())\n",
    "print(df.head())"
   ]
  },
  {
   "cell_type": "code",
   "execution_count": 7,
   "metadata": {},
   "outputs": [],
   "source": [
    "X_train, X_test, y_train, y_test = train_test_split(df, df['infected'], test_size=0.2, random_state=42)"
   ]
  },
  {
   "cell_type": "code",
   "execution_count": 8,
   "metadata": {},
   "outputs": [],
   "source": [
    "def entropy(freq):\n",
    "  # remove prob 0 \n",
    "  freq_0 = freq[np.array(freq).nonzero()[0]]\n",
    "  prob_0 = freq_0/float(freq_0.sum())\n",
    "  return -np.sum(prob_0*np.log2(prob_0))"
   ]
  },
  {
   "cell_type": "code",
   "execution_count": 16,
   "metadata": {},
   "outputs": [
    {
     "name": "stdout",
     "output_type": "stream",
     "text": [
      "Index(['time', 'trt', 'age', 'wtkg', 'hemo', 'homo', 'drugs', 'karnof',\n",
      "       'oprior', 'z30', 'preanti', 'race', 'gender', 'str2', 'strat',\n",
      "       'symptom', 'treat', 'offtrt', 'cd40', 'cd420', 'cd80', 'cd820'],\n",
      "      dtype='object')\n"
     ]
    }
   ],
   "source": [
    "idx = [i for i in X_train[:10].index]\n",
    "\n",
    "data = X_train.loc[idx, :]\n",
    "\n",
    "# print(data.loc[idx, :])\n",
    "\n",
    "print(data.columns[:-1])\n",
    "\n",
    "# for i, att in enumerate(data.columns[:-1]):\n",
    "#   print(att)\n",
    "#   values = data.loc[idx, att].unique()\n",
    "#   split = []\n",
    "#   for val in values:\n",
    "#     sub_ids = data.index[data[att] == val]\n",
    "#     split.append([i for i in sub_ids])\n",
    "#   print([i for i in map(len, split)])"
   ]
  },
  {
   "cell_type": "code",
   "execution_count": 3,
   "metadata": {},
   "outputs": [
    {
     "name": "stdout",
     "output_type": "stream",
     "text": [
      "1\n"
     ]
    }
   ],
   "source": [
    "arr = [1,2,3,4]\n",
    "\n",
    "print(arr.index(2))"
   ]
  }
 ],
 "metadata": {
  "kernelspec": {
   "display_name": "Python 3",
   "language": "python",
   "name": "python3"
  },
  "language_info": {
   "codemirror_mode": {
    "name": "ipython",
    "version": 3
   },
   "file_extension": ".py",
   "mimetype": "text/x-python",
   "name": "python",
   "nbconvert_exporter": "python",
   "pygments_lexer": "ipython3",
   "version": "3.11.5"
  }
 },
 "nbformat": 4,
 "nbformat_minor": 2
}
